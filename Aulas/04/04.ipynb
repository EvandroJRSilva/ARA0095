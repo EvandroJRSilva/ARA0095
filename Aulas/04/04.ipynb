{
 "cells": [
  {
   "attachments": {},
   "cell_type": "markdown",
   "metadata": {},
   "source": [
    "# Tratamento de exceções\n",
    "\n",
    "Variados erros podem acontecer durante a execução do código. Quando isso acontece, a execução é finalizada e uma mensagem de erro é mostrada."
   ]
  },
  {
   "cell_type": "code",
   "execution_count": 1,
   "metadata": {},
   "outputs": [
    {
     "ename": "FileNotFoundError",
     "evalue": "[Errno 2] No such file or directory: 'teste.txt'",
     "output_type": "error",
     "traceback": [
      "\u001b[0;31m---------------------------------------------------------------------------\u001b[0m",
      "\u001b[0;31mFileNotFoundError\u001b[0m                         Traceback (most recent call last)",
      "Cell \u001b[0;32mIn[1], line 1\u001b[0m\n\u001b[0;32m----> 1\u001b[0m arquivo \u001b[39m=\u001b[39m \u001b[39mopen\u001b[39;49m(\u001b[39m'\u001b[39;49m\u001b[39mteste.txt\u001b[39;49m\u001b[39m'\u001b[39;49m, \u001b[39m'\u001b[39;49m\u001b[39mr\u001b[39;49m\u001b[39m'\u001b[39;49m)\n",
      "File \u001b[0;32m~/.local/lib/python3.10/site-packages/IPython/core/interactiveshell.py:282\u001b[0m, in \u001b[0;36m_modified_open\u001b[0;34m(file, *args, **kwargs)\u001b[0m\n\u001b[1;32m    275\u001b[0m \u001b[39mif\u001b[39;00m file \u001b[39min\u001b[39;00m {\u001b[39m0\u001b[39m, \u001b[39m1\u001b[39m, \u001b[39m2\u001b[39m}:\n\u001b[1;32m    276\u001b[0m     \u001b[39mraise\u001b[39;00m \u001b[39mValueError\u001b[39;00m(\n\u001b[1;32m    277\u001b[0m         \u001b[39mf\u001b[39m\u001b[39m\"\u001b[39m\u001b[39mIPython won\u001b[39m\u001b[39m'\u001b[39m\u001b[39mt let you open fd=\u001b[39m\u001b[39m{\u001b[39;00mfile\u001b[39m}\u001b[39;00m\u001b[39m by default \u001b[39m\u001b[39m\"\u001b[39m\n\u001b[1;32m    278\u001b[0m         \u001b[39m\"\u001b[39m\u001b[39mas it is likely to crash IPython. If you know what you are doing, \u001b[39m\u001b[39m\"\u001b[39m\n\u001b[1;32m    279\u001b[0m         \u001b[39m\"\u001b[39m\u001b[39myou can use builtins\u001b[39m\u001b[39m'\u001b[39m\u001b[39m open.\u001b[39m\u001b[39m\"\u001b[39m\n\u001b[1;32m    280\u001b[0m     )\n\u001b[0;32m--> 282\u001b[0m \u001b[39mreturn\u001b[39;00m io_open(file, \u001b[39m*\u001b[39;49margs, \u001b[39m*\u001b[39;49m\u001b[39m*\u001b[39;49mkwargs)\n",
      "\u001b[0;31mFileNotFoundError\u001b[0m: [Errno 2] No such file or directory: 'teste.txt'"
     ]
    }
   ],
   "source": [
    "arquivo = open('teste.txt', 'r')"
   ]
  },
  {
   "attachments": {},
   "cell_type": "markdown",
   "metadata": {},
   "source": [
    "Esses erros são chamados de `exceção` e podem ser tratados. A vantagem de tratá-los é permitir a continuação da execução do programa, além de ter maior controle sobre o que está acontecendo.\n",
    "\n",
    "A forma de se tratar exceções em Python é através do bloco `try-except`. Quando algum trecho de código potencialmente lançará algum erro, esse código pode ser escrito dentro de um bloco `try`. O erro será tratado no bloco `except`."
   ]
  },
  {
   "cell_type": "code",
   "execution_count": 2,
   "metadata": {},
   "outputs": [
    {
     "name": "stdout",
     "output_type": "stream",
     "text": [
      "O arquivo não existe\n"
     ]
    }
   ],
   "source": [
    "try:\n",
    "    arquivo = open('teste.txt', 'r')\n",
    "except:\n",
    "    print('O arquivo não existe')"
   ]
  },
  {
   "attachments": {},
   "cell_type": "markdown",
   "metadata": {},
   "source": [
    "Quando um erro ocorre dentro de um bloco `try`, a execução será levada imediatamente ao bloco `except`."
   ]
  },
  {
   "cell_type": "code",
   "execution_count": 3,
   "metadata": {},
   "outputs": [
    {
     "name": "stdout",
     "output_type": "stream",
     "text": [
      "O arquivo não existe\n"
     ]
    }
   ],
   "source": [
    "try:\n",
    "    arquivo = open('teste.txt', 'r')\n",
    "    print('Eu quero ser lido')\n",
    "except:\n",
    "    print('O arquivo não existe')"
   ]
  },
  {
   "attachments": {},
   "cell_type": "markdown",
   "metadata": {},
   "source": [
    "Existem outros dois elementos que fazem parte do bloco `try-except`. São eles: `else` e `finally`. \n",
    "\n",
    "O bloco `else` permite a execução de códigos após o `try` se nenhum erro tiver sido lançado."
   ]
  },
  {
   "cell_type": "code",
   "execution_count": 4,
   "metadata": {},
   "outputs": [
    {
     "name": "stdout",
     "output_type": "stream",
     "text": [
      "Olá\n",
      "Deu tudo certo\n"
     ]
    }
   ],
   "source": [
    "try:\n",
    "    print('Olá')\n",
    "except:\n",
    "    print('Aconteceu algum erro')\n",
    "else:\n",
    "    print('Deu tudo certo')"
   ]
  },
  {
   "attachments": {},
   "cell_type": "markdown",
   "metadata": {},
   "source": [
    "Assim como o bloco anterior, o `finally` é opcinal, porém seu código será executado, independete do que tenha acontecido no `try`, ou seja, com erro ou sem erro. Pode ser útil para fechar objetos ou limpar recursos."
   ]
  },
  {
   "cell_type": "code",
   "execution_count": 1,
   "metadata": {},
   "outputs": [],
   "source": [
    "try:\n",
    "    arquivo = open('teste.txt', 'w')\n",
    "    try:\n",
    "        arquivo.write('Apenas um teste')\n",
    "    except:\n",
    "        print('Não foi possível escrever no arquivo')\n",
    "    finally:\n",
    "        arquivo.close()\n",
    "except:\n",
    "    print('Não foi possível abrir o arquivo')"
   ]
  },
  {
   "attachments": {},
   "cell_type": "markdown",
   "metadata": {},
   "source": [
    "Também é possível armazenar os conteúdo lançado pela exceção em alguma variável"
   ]
  },
  {
   "cell_type": "code",
   "execution_count": 2,
   "metadata": {},
   "outputs": [
    {
     "name": "stdout",
     "output_type": "stream",
     "text": [
      "Arquivo não pôde ser aberto\n",
      "Descrição:  [Errno 2] No such file or directory: 'teste01.txt'\n"
     ]
    }
   ],
   "source": [
    "try:\n",
    "    arquivo = open(\"teste01.txt\", \"r\")\n",
    "    print(\"Arquivo aberto\")\n",
    "except Exception as erro:\n",
    "    print(\"Arquivo não pôde ser aberto\")\n",
    "    print(\"Descrição: \", erro)"
   ]
  },
  {
   "attachments": {},
   "cell_type": "markdown",
   "metadata": {},
   "source": [
    "Apesar de `Exception` poder ser usada para capturar quase qualquer exceção, e o bloco `except` poder ser chamado sem alguma adição, faz parte das boas práticas ser o mais específico possível. Clique [aqui](https://docs.python.org/pt-br/3/library/exceptions.html) para uma lista de exceções nativas de Python (da própria documentação)."
   ]
  },
  {
   "cell_type": "code",
   "execution_count": 3,
   "metadata": {},
   "outputs": [
    {
     "name": "stdout",
     "output_type": "stream",
     "text": [
      "Erro de Sistema Operacional:  [Errno 2] No such file or directory: 'teste01.txt'\n"
     ]
    }
   ],
   "source": [
    "import sys\n",
    "\n",
    "try:\n",
    "    arquivo = open('teste01.txt', 'r')\n",
    "    linha_01 = arquivo.readline()\n",
    "    i = int(linha_01.strip())\n",
    "except OSError as err:\n",
    "    print('Erro de Sistema Operacional: ', err)\n",
    "except ValueError:\n",
    "    print('Os dados não puderam ser convertidos para o tipo Inteiro')\n",
    "except Exception as err:\n",
    "    print(f'{err=} inesperado, {type(err)=}.')"
   ]
  },
  {
   "attachments": {},
   "cell_type": "markdown",
   "metadata": {},
   "source": [
    "Às vezes é interessante você mesmo lançar alguma exceção. Isso vai depender da situação e, com experiência, você vai saber quando lançar e quando não lançar. Para lançar uma exceção utiliza-se o termo `raise`."
   ]
  },
  {
   "cell_type": "code",
   "execution_count": 4,
   "metadata": {},
   "outputs": [
    {
     "ename": "Exception",
     "evalue": "O valor não pode ser abaixo de 0",
     "output_type": "error",
     "traceback": [
      "\u001b[0;31m---------------------------------------------------------------------------\u001b[0m",
      "\u001b[0;31mException\u001b[0m                                 Traceback (most recent call last)",
      "Cell \u001b[0;32mIn[4], line 4\u001b[0m\n\u001b[1;32m      1\u001b[0m x \u001b[39m=\u001b[39m \u001b[39m-\u001b[39m\u001b[39m1\u001b[39m\n\u001b[1;32m      3\u001b[0m \u001b[39mif\u001b[39;00m x \u001b[39m<\u001b[39m \u001b[39m0\u001b[39m:\n\u001b[0;32m----> 4\u001b[0m     \u001b[39mraise\u001b[39;00m \u001b[39mException\u001b[39;00m(\u001b[39m'\u001b[39m\u001b[39mO valor não pode ser abaixo de 0\u001b[39m\u001b[39m'\u001b[39m)\n",
      "\u001b[0;31mException\u001b[0m: O valor não pode ser abaixo de 0"
     ]
    }
   ],
   "source": [
    "x = -1\n",
    "\n",
    "if x < 0:\n",
    "    raise Exception('O valor não pode ser abaixo de 0')"
   ]
  },
  {
   "attachments": {},
   "cell_type": "markdown",
   "metadata": {},
   "source": [
    "É possível definir o tipo de exceção específica a ser lançada."
   ]
  },
  {
   "cell_type": "code",
   "execution_count": 5,
   "metadata": {},
   "outputs": [
    {
     "ename": "TypeError",
     "evalue": "Somente números inteiros são permitidos",
     "output_type": "error",
     "traceback": [
      "\u001b[0;31m---------------------------------------------------------------------------\u001b[0m",
      "\u001b[0;31mTypeError\u001b[0m                                 Traceback (most recent call last)",
      "Cell \u001b[0;32mIn[5], line 4\u001b[0m\n\u001b[1;32m      1\u001b[0m x \u001b[39m=\u001b[39m \u001b[39m'\u001b[39m\u001b[39molá\u001b[39m\u001b[39m'\u001b[39m\n\u001b[1;32m      3\u001b[0m \u001b[39mif\u001b[39;00m \u001b[39mnot\u001b[39;00m \u001b[39mtype\u001b[39m(x) \u001b[39mis\u001b[39;00m \u001b[39mint\u001b[39m:\n\u001b[0;32m----> 4\u001b[0m     \u001b[39mraise\u001b[39;00m \u001b[39mTypeError\u001b[39;00m(\u001b[39m'\u001b[39m\u001b[39mSomente números inteiros são permitidos\u001b[39m\u001b[39m'\u001b[39m)\n",
      "\u001b[0;31mTypeError\u001b[0m: Somente números inteiros são permitidos"
     ]
    }
   ],
   "source": [
    "x = 'olá'\n",
    "\n",
    "if not type(x) is int:\n",
    "    raise TypeError('Somente números inteiros são permitidos')"
   ]
  },
  {
   "attachments": {},
   "cell_type": "markdown",
   "metadata": {},
   "source": [
    "Existe também a possibilidade de uma exceção para a exceção. Se você quiser indicar que uma exceção é uma consequência direta de outra, é possível utilizar o termo `from`."
   ]
  },
  {
   "cell_type": "code",
   "execution_count": 6,
   "metadata": {},
   "outputs": [
    {
     "ename": "RuntimeError",
     "evalue": "Falha na operação",
     "output_type": "error",
     "traceback": [
      "\u001b[0;31m---------------------------------------------------------------------------\u001b[0m",
      "\u001b[0;31mConnectionError\u001b[0m                           Traceback (most recent call last)",
      "Cell \u001b[0;32mIn[6], line 5\u001b[0m\n\u001b[1;32m      4\u001b[0m \u001b[39mtry\u001b[39;00m:\n\u001b[0;32m----> 5\u001b[0m     func()\n\u001b[1;32m      6\u001b[0m \u001b[39mexcept\u001b[39;00m \u001b[39mConnectionError\u001b[39;00m \u001b[39mas\u001b[39;00m err:\n",
      "Cell \u001b[0;32mIn[6], line 2\u001b[0m, in \u001b[0;36mfunc\u001b[0;34m()\u001b[0m\n\u001b[1;32m      1\u001b[0m \u001b[39mdef\u001b[39;00m \u001b[39mfunc\u001b[39m():\n\u001b[0;32m----> 2\u001b[0m     \u001b[39mraise\u001b[39;00m \u001b[39mConnectionError\u001b[39;00m\n",
      "\u001b[0;31mConnectionError\u001b[0m: ",
      "\nThe above exception was the direct cause of the following exception:\n",
      "\u001b[0;31mRuntimeError\u001b[0m                              Traceback (most recent call last)",
      "Cell \u001b[0;32mIn[6], line 7\u001b[0m\n\u001b[1;32m      5\u001b[0m     func()\n\u001b[1;32m      6\u001b[0m \u001b[39mexcept\u001b[39;00m \u001b[39mConnectionError\u001b[39;00m \u001b[39mas\u001b[39;00m err:\n\u001b[0;32m----> 7\u001b[0m     \u001b[39mraise\u001b[39;00m \u001b[39mRuntimeError\u001b[39;00m(\u001b[39m'\u001b[39m\u001b[39mFalha na operação\u001b[39m\u001b[39m'\u001b[39m) \u001b[39mfrom\u001b[39;00m \u001b[39merr\u001b[39;00m\n",
      "\u001b[0;31mRuntimeError\u001b[0m: Falha na operação"
     ]
    }
   ],
   "source": [
    "def func():\n",
    "    raise ConnectionError\n",
    "\n",
    "try:\n",
    "    func()\n",
    "except ConnectionError as err:\n",
    "    raise RuntimeError('Falha na operação') from err"
   ]
  },
  {
   "attachments": {},
   "cell_type": "markdown",
   "metadata": {},
   "source": [
    "Você pode criar suas próprias exceções, ao declará-las como uma subclasse de `Exception`."
   ]
  },
  {
   "cell_type": "code",
   "execution_count": 8,
   "metadata": {},
   "outputs": [
    {
     "name": "stdout",
     "output_type": "stream",
     "text": [
      "Vamos ver minha exceção\n",
      "Minha exceção\n"
     ]
    }
   ],
   "source": [
    "class MinhaException(Exception):\n",
    "    pass\n",
    "\n",
    "try:\n",
    "    print('Vamos ver minha exceção')\n",
    "    raise MinhaException\n",
    "except MinhaException:\n",
    "    print('Minha exceção')"
   ]
  },
  {
   "attachments": {},
   "cell_type": "markdown",
   "metadata": {},
   "source": [
    "## Exercícios\n",
    "\n",
    "1. Procurar exceções de Python relacionadas à manipulação de arquivos e testá-las.\n",
    "2. Abra um arquivo com permissão para somente leitura e tente escrever algo. Escreva o código para tratar o erro que será lançado.\n",
    "3. Tente ler os dados de um arquivo inexistente e trate o erro.\n",
    "4. Tente excluir uma pasta que ainda contém arquivos, tratando o erro.\n",
    "5. Faça um programa que leia dois valores `a` e `b` do usuário. Caso qualquer dos valores seja 0, lance uma exceção, senão, retorne as divisões `a/b` e `b/a`.\n",
    "6. Tente somar uma `String` com algum valor `int` ou `float`, tratando a exceção.\n",
    "7. Crie uma lista com 5 posições. Peça ao usuário fornecer um índice e mostre o valor da lista correspondente ao índice. Caso o índice requerido esteja aquém ou além da lista, trate o erro.\n",
    "8. [Calculadora interativa](https://python.cogsci.nl/basic/exceptions-solution/)\n",
    "   1. Crie uma calculadora interativa. A entrada do usuário deve ser uma fórmula que consiste de um número, um operador (pelo menos `+` e `-`), e outro número, separados por espaço (ex.: 1 + 1). Separe a entrada do usuário utilizando o método `split` e verifique se a lista resultante é válida:\n",
    "      1. Se a entrada não consiste de 3 elementos, lance (`raise`) `FormulaError`, exceção que você deverá criar.\n",
    "      2. Tente converter o primeiro e terceiro elementos para `float` (ex.: valor_float = float(entrada)). Capture a exceção `ValueError` e lance `FormulaError` no lugar.\n",
    "      3. Se o segundo elemento não for `+` ou `-`, lance `FormulaError`.\n",
    "   2. Se a entrada é válida, efetue o cálculo e apresente o resultado.\n",
    "9. Segundo desafio\n",
    "   1.  Pergunte a um usuário se ele deseja criar uma nova pasta. \n",
    "       1.  O usuário deve responder com `s` ou `n`. \n",
    "       2.  Lance uma exceção para qualquer outro valor que o usuário tenha digitado.\n",
    "   2. Se a resposta for `s`, peça ao usuário o nome da pasta, e valide o nome, de forma a não ter números.\n",
    "      1. Caso exista qualquer número no nome da pasta, um erro deve ser lançado (esse erro pode ser uma exceção criada por você).\n",
    "   3. Crie a pasta e pergunte ao usuário se ele deseja criar, ler, adicionar conteúdo ou excluir algum arquivo de texto.\n",
    "      1. Faça a ação que o usuário tenha requisitado, com tratamento dos possíveis erros (por exemplo, leitura ou exclusão de arquivo não existente).\n",
    "      2. Em determinadas situações você mesmo pode utilizar o `raise` para lançar a exceção."
   ]
  }
 ],
 "metadata": {
  "kernelspec": {
   "display_name": "Python 3",
   "language": "python",
   "name": "python3"
  },
  "language_info": {
   "codemirror_mode": {
    "name": "ipython",
    "version": 3
   },
   "file_extension": ".py",
   "mimetype": "text/x-python",
   "name": "python",
   "nbconvert_exporter": "python",
   "pygments_lexer": "ipython3",
   "version": "3.10.6"
  },
  "orig_nbformat": 4
 },
 "nbformat": 4,
 "nbformat_minor": 2
}
