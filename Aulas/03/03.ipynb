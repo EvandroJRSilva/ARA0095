{
 "cells": [
  {
   "attachments": {},
   "cell_type": "markdown",
   "metadata": {},
   "source": [
    "# Manipulação de Strings\n",
    "\n",
    "Excelente site para aprender várias coisas sobre python:\n",
    "[W3 Schools](https://www.w3schools.com/python/)\n",
    "\n",
    "----------\n",
    "Lembra que vem o \\n quando lemos o conteúdo de um arquivo?"
   ]
  },
  {
   "cell_type": "code",
   "execution_count": 1,
   "metadata": {},
   "outputs": [
    {
     "name": "stdout",
     "output_type": "stream",
     "text": [
      "Representação original da linha: \n",
      "'Hello\\n'\n",
      "'\\n'\n",
      "'Darkness my\\n'\n",
      "'Old\\n'\n",
      "'\\n'\n",
      "'\\n'\n",
      "'Friend\\n'\n",
      "'\\n'\n",
      "\"    I've come to\\n\"\n",
      "'\\n'\n",
      "'    Talk\\n'\n",
      "'\\n'\n",
      "'to you\\n'\n",
      "'\\n'\n",
      "'again!'\n"
     ]
    }
   ],
   "source": [
    "arquivo = open(\"teste.txt\", \"r\")\n",
    "\n",
    "print(\"Representação original da linha: \")\n",
    "for linha in arquivo:\n",
    "    print(repr(linha))\n",
    "\n",
    "arquivo.close()"
   ]
  },
  {
   "attachments": {},
   "cell_type": "markdown",
   "metadata": {},
   "source": [
    "E se a gente quiser tirar esse \\n?"
   ]
  },
  {
   "cell_type": "code",
   "execution_count": 2,
   "metadata": {},
   "outputs": [
    {
     "name": "stdout",
     "output_type": "stream",
     "text": [
      "Representação após o strip\n",
      "'Hello'\n",
      "''\n",
      "'Darkness my'\n",
      "'Old'\n",
      "''\n",
      "''\n",
      "'Friend'\n",
      "''\n",
      "\"I've come to\"\n",
      "''\n",
      "'Talk'\n",
      "''\n",
      "'to you'\n",
      "''\n",
      "'again!'\n"
     ]
    }
   ],
   "source": [
    "arquivo = open(\"teste.txt\", \"r\")\n",
    "\n",
    "print(\"Representação após o strip\")\n",
    "for linha in arquivo:\n",
    "    linha_limpa = linha.strip()\n",
    "    print(repr(linha_limpa))\n",
    "\n",
    "arquivo.close()"
   ]
  },
  {
   "attachments": {},
   "cell_type": "markdown",
   "metadata": {},
   "source": [
    "O método `strip()` pode ser usado para saber quantas linhas um arquivo tem (descontando as linhas em branco)"
   ]
  },
  {
   "cell_type": "code",
   "execution_count": 3,
   "metadata": {},
   "outputs": [
    {
     "name": "stdout",
     "output_type": "stream",
     "text": [
      "Total =  15\n",
      "Total real =  8\n"
     ]
    }
   ],
   "source": [
    "arquivo = open(\"teste.txt\", \"r\")\n",
    "\n",
    "contador = 0\n",
    "contador_2 = 0\n",
    "for linha in arquivo:\n",
    "    if linha:\n",
    "        contador += 1\n",
    "    if linha.strip():\n",
    "        contador_2 += 1\n",
    "\n",
    "print(\"Total = \", contador)\n",
    "print(\"Total real = \", contador_2)\n",
    "\n",
    "arquivo.close()"
   ]
  },
  {
   "attachments": {},
   "cell_type": "markdown",
   "metadata": {},
   "source": [
    "Método `count()`"
   ]
  },
  {
   "cell_type": "code",
   "execution_count": 4,
   "metadata": {},
   "outputs": [
    {
     "name": "stdout",
     "output_type": "stream",
     "text": [
      "Total de vezes da palavra 'saber':  2\n",
      "Quantidade de vezes da palavra 'iche':  2\n"
     ]
    }
   ],
   "source": [
    "frase = \"As pessoas precisam saber, saber, que até mesmo o sanduiche iche, tem propriedades nutritivas\"\n",
    "contador = frase.count(\"saber\")\n",
    "print(\"Total de vezes da palavra 'saber': \", contador)\n",
    "\n",
    "contardor2 = frase.count(\"iche\")\n",
    "print(\"Quantidade de vezes da palavra 'iche': \", contardor2)"
   ]
  },
  {
   "attachments": {},
   "cell_type": "markdown",
   "metadata": {},
   "source": [
    "Método `split()`"
   ]
  },
  {
   "cell_type": "code",
   "execution_count": 5,
   "metadata": {},
   "outputs": [
    {
     "name": "stdout",
     "output_type": "stream",
     "text": [
      "['uma', 'frase', 'de', 'teste', 'para', 'vermos', 'o', 'método']\n"
     ]
    }
   ],
   "source": [
    "frase = \"uma frase de teste para vermos o método\"\n",
    "lista_frase = frase.split(' ')\n",
    "print(lista_frase)"
   ]
  },
  {
   "attachments": {},
   "cell_type": "markdown",
   "metadata": {},
   "source": [
    "Método `join()`"
   ]
  },
  {
   "cell_type": "code",
   "execution_count": 6,
   "metadata": {},
   "outputs": [
    {
     "name": "stdout",
     "output_type": "stream",
     "text": [
      "C, Lua, Java\n",
      "C\n",
      "Lua\n",
      "Java\n"
     ]
    }
   ],
   "source": [
    "lista_string = ['C', 'Lua', 'Java']\n",
    "\n",
    "texto1 = ', '.join(lista_string)\n",
    "print(texto1)\n",
    "\n",
    "texto2 = '\\n'.join(lista_string)\n",
    "print(texto2)"
   ]
  },
  {
   "attachments": {},
   "cell_type": "markdown",
   "metadata": {},
   "source": [
    "Método `len()`"
   ]
  },
  {
   "cell_type": "code",
   "execution_count": 10,
   "metadata": {},
   "outputs": [
    {
     "name": "stdout",
     "output_type": "stream",
     "text": [
      "18\n"
     ]
    }
   ],
   "source": [
    "frase = 'Uma frase qualquer'\n",
    "print(len(frase))"
   ]
  },
  {
   "attachments": {},
   "cell_type": "markdown",
   "metadata": {},
   "source": [
    "## Iterando sobre Strings\n",
    "\n",
    "Uma String é também um `array`. Isso nos permite percorrer a String, caractere a caractere."
   ]
  },
  {
   "cell_type": "code",
   "execution_count": 11,
   "metadata": {},
   "outputs": [
    {
     "name": "stdout",
     "output_type": "stream",
     "text": [
      "O\n"
     ]
    }
   ],
   "source": [
    "frase = 'Olá mundo'\n",
    "\n",
    "print(frase[0])"
   ]
  },
  {
   "cell_type": "code",
   "execution_count": 12,
   "metadata": {},
   "outputs": [
    {
     "name": "stdout",
     "output_type": "stream",
     "text": [
      "O\n",
      "l\n",
      "á\n",
      " \n",
      "m\n",
      "u\n",
      "n\n",
      "d\n",
      "o\n"
     ]
    }
   ],
   "source": [
    "for letra in frase:\n",
    "    print(letra)"
   ]
  },
  {
   "attachments": {},
   "cell_type": "markdown",
   "metadata": {},
   "source": [
    "## Operadores de pertencimento\n",
    "\n",
    "Em Python temos os operadores `in` e `not in`, os quais retornam se um determinado objeto pertence a outro. Esses operadores podem ser utilizados em Strings também."
   ]
  },
  {
   "cell_type": "code",
   "execution_count": 13,
   "metadata": {},
   "outputs": [
    {
     "name": "stdout",
     "output_type": "stream",
     "text": [
      "Obrigado amigo, você é um amigo\n"
     ]
    }
   ],
   "source": [
    "frase = 'Hello darkness my old friend'\n",
    "\n",
    "if 'friend' in frase:\n",
    "    print('Obrigado amigo, você é um amigo')"
   ]
  },
  {
   "cell_type": "code",
   "execution_count": 14,
   "metadata": {},
   "outputs": [
    {
     "name": "stdout",
     "output_type": "stream",
     "text": [
      "tururu\n"
     ]
    }
   ],
   "source": [
    "if 'amigo' not in frase:\n",
    "    print('tururu')"
   ]
  },
  {
   "attachments": {},
   "cell_type": "markdown",
   "metadata": {},
   "source": [
    "---\n",
    "\n",
    "## Formatação de Strings\n",
    "* f-Strings\n",
    "* format()\n",
    "* manualmente\n",
    "\n",
    "### f-Strings"
   ]
  },
  {
   "cell_type": "code",
   "execution_count": 7,
   "metadata": {},
   "outputs": [
    {
     "name": "stdout",
     "output_type": "stream",
     "text": [
      "Olá Fulano.\n",
      "Olá Fulano.\n",
      "Olá FULANO.\n",
      "Quantos anos você tem? 32.\n",
      "O número 2 é maior que 1? True\n",
      "O número 5 está na lista [1, 2, 3, 4]? False\n"
     ]
    }
   ],
   "source": [
    "nome = \"Fulano\"\n",
    "teste_string = \"Olá \" + nome + \".\"\n",
    "teste_fstring1 = f\"Olá {nome}.\"\n",
    "teste_fstring2 = f\"Olá {nome.upper()}.\"\n",
    "teste_fstring3 = f\"Quantos anos você tem? {pow(2,5)}.\"\n",
    "teste_fstring4 = f\"O número 2 é maior que 1? {2>1}\"\n",
    "teste_fstring5 = f\"O número 5 está na lista [1, 2, 3, 4]? {5 in [1, 2, 3, 4]}\"\n",
    "\n",
    "print(teste_string)\n",
    "print(teste_fstring1)\n",
    "print(teste_fstring2)\n",
    "print(teste_fstring3)\n",
    "print(teste_fstring4)\n",
    "print(teste_fstring5)"
   ]
  },
  {
   "cell_type": "code",
   "execution_count": 8,
   "metadata": {},
   "outputs": [
    {
     "name": "stdout",
     "output_type": "stream",
     "text": [
      "Nome: Pera         - Número de letras:   4\n",
      "Nome: Uva          - Número de letras:   3\n",
      "Nome: Maçã         - Número de letras:   4\n",
      "Nome: Salada Mista - Número de letras:  12\n",
      "\n",
      "O número pi é: 3.1\n",
      "O número pi deslocado é:    3.1\n",
      "O número pi com 4 casas decimais: 3.1416\n",
      "\n",
      "A data de hoje é 2023-03-08 17:49:16.451088\n",
      "A data de hoje formatada:  08/03/23\n"
     ]
    }
   ],
   "source": [
    "from cmath import pi\n",
    "from datetime import datetime\n",
    "\n",
    "frutas = [\"Pera\", \"Uva\", \"Maçã\", \"Salada Mista\"]\n",
    "for fruta in frutas:\n",
    "    fruta_string = f\"Nome: {fruta:12} - Número de letras: {len(fruta): 3}\"\n",
    "    print(fruta_string)\n",
    "\n",
    "print() # apenas para dar uma quebra de linha\n",
    "\n",
    "pi_string = f\"O número pi é: {pi:.1f}\"\n",
    "pi_string2 = f\"O número pi deslocado é: {pi:6.1f}\"\n",
    "pi_string3 = f\"O número pi com 4 casas decimais: {pi:.4f}\"\n",
    "print(pi_string)\n",
    "print(pi_string2)\n",
    "print(pi_string3)\n",
    "\n",
    "print() # apenas para dar uma quebra de linha\n",
    "\n",
    "data = datetime.now()\n",
    "data_string = f\"A data de hoje é {data}\"\n",
    "data_string2 = f\"A data de hoje formatada: {data: %d/%m/%y}\"\n",
    "print(data_string)\n",
    "print(data_string2)"
   ]
  },
  {
   "attachments": {},
   "cell_type": "markdown",
   "metadata": {},
   "source": [
    "## `format()`"
   ]
  },
  {
   "cell_type": "code",
   "execution_count": 9,
   "metadata": {},
   "outputs": [
    {
     "name": "stdout",
     "output_type": "stream",
     "text": [
      "O valor é 39.99 reais\n",
      "Olá! Meu nome é Evandro, e eu tenho 20 anos\n",
      "Olá! Meu nome é Evandro, e eu tenho 20 anos\n",
      "Olá! Meu nome é Evandro, e eu tenho 20 anos\n"
     ]
    }
   ],
   "source": [
    "teste_string = \"O valor é {preco:.2f} reais\"\n",
    "print(teste_string.format(preco = 39.99))\n",
    "\n",
    "teste_string2 = \"Olá! Meu nome é {nome}, e eu tenho {idade} anos\".format(nome = \"Evandro\", idade = 20)\n",
    "teste_string3 = \"Olá! Meu nome é {0}, e eu tenho {1} anos\".format(\"Evandro\", 20)\n",
    "teste_string4 = \"Olá! Meu nome é {}, e eu tenho {} anos\".format(\"Evandro\", 20)\n",
    "\n",
    "print(teste_string2)\n",
    "print(teste_string3)\n",
    "print(teste_string4)"
   ]
  },
  {
   "attachments": {},
   "cell_type": "markdown",
   "metadata": {},
   "source": [
    "---\n",
    "\n",
    "## Exercícios\n",
    "\n",
    "* [Lista de exercícios de Python Brasil](https://wiki.python.org.br/ExerciciosComStrings)\n",
    "* [FACOM - UFU](https://www.facom.ufu.br/~backes/gbt017/ListaPython05.pdf)\n",
    "* [113 exercises with solution](https://www.w3resource.com/python-exercises/string/)"
   ]
  }
 ],
 "metadata": {
  "kernelspec": {
   "display_name": "Python 3",
   "language": "python",
   "name": "python3"
  },
  "language_info": {
   "codemirror_mode": {
    "name": "ipython",
    "version": 3
   },
   "file_extension": ".py",
   "mimetype": "text/x-python",
   "name": "python",
   "nbconvert_exporter": "python",
   "pygments_lexer": "ipython3",
   "version": "3.10.6"
  },
  "orig_nbformat": 4
 },
 "nbformat": 4,
 "nbformat_minor": 2
}
