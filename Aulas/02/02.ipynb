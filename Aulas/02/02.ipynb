{
 "cells": [
  {
   "attachments": {},
   "cell_type": "markdown",
   "metadata": {},
   "source": [
    "# Aula 02\n",
    "\n",
    "O uso do Python para o desenvolvimento rápido de aplicações possui algumas vantagens:\n",
    "\n",
    "1. Sintaxe simples e fácil de aprender\n",
    "2. Frameworks específicos para desenvolvimento rápido\n",
    "   1. Exemplo: [Django](https://www.djangoproject.com/), um framework para desenvolvimento rápido para web, de código aberto.\n",
    "3. Abundância de bibliotecas de código aberto que ajudam a acelerar o desenvolvimento.\n",
    "4. Comunidade de desenvolvedores grande e ativa.\n",
    "\n",
    "Vamos começar a explorar o desenvolvimento com Python!\n",
    "\n",
    "Python Docs\n",
    "- online em https://python.org/doc ou https://docs.python.org/pt-br/3.10/#\n",
    "- Download: https://docs.python.org/pt-br/3.10/download.html\n",
    "- Especificamente sobre arquivos: https://docs.python.org/pt-br/3.10/tutorial/inputoutput.html#reading-and-writing-files\n",
    "\n",
    "-----\n",
    "\n",
    "## Manipulação de arquivos em Python\n",
    "\n",
    "### Abrindo arquivo existente com o modo de acesso 'read'\n",
    "\n",
    "A função open(path, mode) recebe dois parâmetros: path e mode. O primeiro se refere ao caminho de onde está o arquivo a ser aberto. Já o segundo, se refere ao modo de acesso. A seguir, alguns modos de acesso:\n",
    "    - r : read / leitura\n",
    "    - w : write / escrita -> sobrescreve ou cria um novo\n",
    "    - r+ : read and write / leitura + escrita\n",
    "    - w+ : write and read / escrita + leitura\n",
    "    - a : append / acrescenta no fim\n",
    "    - a+ : append / acrescento no início\n",
    "\n",
    "                      | r   r+   w   w+   a   a+\n",
    "    ------------------|--------------------------\n",
    "    read              | +   +        +        +\n",
    "    write             |     +    +   +    +   +\n",
    "    write after seek  |     +    +   +\n",
    "    create            |          +   +    +   +\n",
    "    truncate          |          +   +\n",
    "    position at start | +   +    +   +\n",
    "    position at end   |                   +   +  \n",
    " \n",
    "    - 'after seek': significa que você pode definir o byte onde vai começar a operação. Por exemplo: arquivo.write(2).\n",
    "    - 'truncate': significa que o arquivo vai ser sobrescrito.\n",
    "\n",
    "Como estou utilizando o VSCode, tenho como workspace a pasta VS_Workspace, o qual é tido como o início do caminho (path). Portanto, basta escrever o caminho do arquivo dentro do workspace.\n",
    "\n",
    "A função open() retorna o arquivo pedido, com o respectivo modo de acesso. Por isso é necessário uma variável para 'receber' esse arquivo. No nosso caso, o nome da variável é 'arquivo', mas poderia ser qualquer outra palavra, desde  que não seja alguma já reservada (exemplo de palavra reservada: if). A partir de então, é possível manipular o arquivo a partir da variável.\n",
    "\n",
    "É interessante sempre escrever logo o '.close()', para evitar problemas. Caso a execução seja interrompida, ou finalizada normalmente, sem que o arquivo seja fechado, você terá problemas para acessá-lo, mesmo com outro programa, como o bloco de notas."
   ]
  },
  {
   "cell_type": "code",
   "execution_count": 3,
   "metadata": {},
   "outputs": [
    {
     "name": "stdout",
     "output_type": "stream",
     "text": [
      "True\n",
      "Python\n",
      "Julia\n",
      "Java\n",
      "JScript\n",
      "C\n",
      "C++\n",
      "Rust\n",
      "Matlab\n",
      "SQL\n",
      "R\n",
      "\n"
     ]
    }
   ],
   "source": [
    "arquivo = open(\"teste.txt\", \"r\")\n",
    "\n",
    "print(arquivo.readable())  # imprimindo a verificação se o arquivo pode ser lido\n",
    "print(arquivo.read())      # imprimindo o arquivo\n",
    "\n",
    "arquivo.close()"
   ]
  },
  {
   "attachments": {},
   "cell_type": "markdown",
   "metadata": {},
   "source": [
    "readline() lê uma linha e deixa o 'cursor' na linha seguinte. Portanto, uma sequência de readline() vai retornar sempre a linha seguinte. Com o print(), a leitura de cada linha é impressa. Como cada linha do arquivo que está sendo lido termina com '\\n' (quebra de linha) o resultado de cada readline() vai ter a seguir uma linha em branco."
   ]
  },
  {
   "cell_type": "code",
   "execution_count": 4,
   "metadata": {},
   "outputs": [
    {
     "name": "stdout",
     "output_type": "stream",
     "text": [
      "Python\n",
      "\n",
      "Julia\n",
      "\n",
      "Java\n",
      "\n"
     ]
    }
   ],
   "source": [
    "arquivo = open(\"teste.txt\", \"r\")\n",
    "\n",
    "print(arquivo.readline())\n",
    "print(arquivo.readline())\n",
    "print(arquivo.readline())\n",
    "\n",
    "arquivo.close()"
   ]
  },
  {
   "attachments": {},
   "cell_type": "markdown",
   "metadata": {},
   "source": [
    "A função readlines() retorna uma lista, onde cada elemento da lista é o conteúdo de uma linha. Essa lista está sendo armazenada na variável lista. A partir daí podemos manipular a lista. Perceba que manipulando a lista, mesmo que apagando elementos, não vai afetar o arquivo."
   ]
  },
  {
   "cell_type": "code",
   "execution_count": 5,
   "metadata": {},
   "outputs": [
    {
     "name": "stdout",
     "output_type": "stream",
     "text": [
      "['Python\\n', 'Julia\\n', 'Java\\n', 'JScript\\n', 'C\\n', 'C++\\n', 'Rust\\n', 'Matlab\\n', 'SQL\\n', 'R\\n']\n"
     ]
    }
   ],
   "source": [
    "arquivo = open(\"teste.txt\", \"r\")\n",
    "\n",
    "lista = arquivo.readlines()\n",
    "print(lista)\n",
    "\n",
    "arquivo.close()"
   ]
  },
  {
   "attachments": {},
   "cell_type": "markdown",
   "metadata": {},
   "source": [
    "Outra maneira de imprimir uma lista é utilizando o comando `for`. Da maneira que foi escrita, este `for` funciona como o `for each` (para cada) de outras linguagens. Então, o código está dizendo mais ou menos assim: para cada elemento da lista, visto como l : ...\n",
    "\n",
    "Outra peculiaridade do Python é a sua necessidade de identação. Isto porque, como você já deve ter notado, não temos ponto e vírgula para definir o fim de uma linha, ou { e } para definir o escopo de um bloco. Portanto, todo bloco em Python inicia com a 'chamada' do bloco seguido de dois pontos. No nosso caso, a 'chamada' é o `for`, ou seja, a chamada de um bloco de repetição. Seguido do `for` temos o `:`. Após os dois pontos, para que o interpretador do Python saibda que uma linha faz parte do bloco, é necessário que aquela linha comece 'tabulada', ou seja deslocada para o lado. Por isso, o `print(l)` é visto como uma linha dentro do `for`. A primeira após o bloco cujo código não esteja deslocado, o interpretador já vai entender como um comando que não pertence ao `for`."
   ]
  },
  {
   "cell_type": "code",
   "execution_count": 6,
   "metadata": {},
   "outputs": [
    {
     "name": "stdout",
     "output_type": "stream",
     "text": [
      "Python\n",
      "\n",
      "Julia\n",
      "\n",
      "Java\n",
      "\n",
      "JScript\n",
      "\n",
      "C\n",
      "\n",
      "C++\n",
      "\n",
      "Rust\n",
      "\n",
      "Matlab\n",
      "\n",
      "SQL\n",
      "\n",
      "R\n",
      "\n"
     ]
    }
   ],
   "source": [
    "arquivo = open(\"teste.txt\", \"r\")\n",
    "\n",
    "lista = arquivo.readlines()\n",
    "\n",
    "for l in lista: \n",
    "    print(l)\n",
    "\n",
    "arquivo.close()"
   ]
  },
  {
   "attachments": {},
   "cell_type": "markdown",
   "metadata": {},
   "source": [
    "### Abrindo um arquivo existente com o modo de acesso `append`.\n",
    "\n",
    "A partir disso é possível acrescentar conteúdo ao arquivo. No nosso caso, criamos um comando para que fosse escrito `\"\\nSQL\"`. Quando o arquivo é aberto em modo `'a'` a nova escrita vai iniciar no espaço seguinte ao último já existente. No nosso exemplo, em `teste.txt`, tínhamos como último elemento a palavra Matlab. Com o `append`, a nova escrita começaria colado ao Matlab. Porém, como escrevemos o `\\n`, vai haver primeiro uma quebra de linha. O SQL é escrito logo após a quebra de linha."
   ]
  },
  {
   "cell_type": "code",
   "execution_count": 7,
   "metadata": {},
   "outputs": [],
   "source": [
    "arquivo = open(\"teste.txt\", \"a\")\n",
    "arquivo.write(\"\\nSQL\")\n",
    "arquivo.write(\"\\nR\\n\")\n",
    "\n",
    "arquivo.close()"
   ]
  },
  {
   "attachments": {},
   "cell_type": "markdown",
   "metadata": {},
   "source": [
    "### Modo de acesso `write`\n",
    "\n",
    "Caso o modo de escrita seja 'selecionado', e o arquivo pedido não exista, então ele será criado. É importan te lembrar também que, caso o arquivo já exista, com este modo de acesso, o coonteúdo dele será sobrescrito."
   ]
  },
  {
   "cell_type": "code",
   "execution_count": 8,
   "metadata": {},
   "outputs": [],
   "source": [
    "arquivo = open(\"teste2.txt\", \"w\")\n",
    "arquivo.write(\"Portugol\\n\")\n",
    "arquivo.write(\"ADA\\n\")\n",
    "arquivo.write(\"C#\")\n",
    "arquivo.close()"
   ]
  },
  {
   "attachments": {},
   "cell_type": "markdown",
   "metadata": {},
   "source": [
    "### Remoção de arquivos\n",
    "\n",
    "A remoção de arquivos pode ser feita com a importação do módulo `os` (de operating system, ou sistema operacional). Esse módulo provê uma interface para funcionalidades dependentes do sistema operacional."
   ]
  },
  {
   "cell_type": "code",
   "execution_count": 9,
   "metadata": {},
   "outputs": [
    {
     "name": "stdout",
     "output_type": "stream",
     "text": [
      "Arquivo não existe\n"
     ]
    }
   ],
   "source": [
    "import os # Apesar de ser nativo do Python, precisa ser explicitamente importado\n",
    "\n",
    "#   Verificando se um arquivo existe. Caso positivo, o arquivo é removido. Senão, é impressa a mensagem.\n",
    "if os.path.exists(\"teste3.txt\"):\n",
    "    os.remove(\"teste3.txt\")\n",
    "else:\n",
    "    print(\"Arquivo não existe\")"
   ]
  },
  {
   "attachments": {},
   "cell_type": "markdown",
   "metadata": {},
   "source": [
    "Da mesma forma, ou seja, com o uso do módulo 'os', é possível criar e remover pastas. Entretanto, a remoção só é possível se a pasta estiver vazia."
   ]
  },
  {
   "cell_type": "code",
   "execution_count": 11,
   "metadata": {},
   "outputs": [
    {
     "ename": "FileExistsError",
     "evalue": "[Errno 17] File exists: 'TESTE'",
     "output_type": "error",
     "traceback": [
      "\u001b[0;31m---------------------------------------------------------------------------\u001b[0m",
      "\u001b[0;31mFileExistsError\u001b[0m                           Traceback (most recent call last)",
      "Cell \u001b[0;32mIn[11], line 1\u001b[0m\n\u001b[0;32m----> 1\u001b[0m os\u001b[39m.\u001b[39;49mmkdir(\u001b[39m\"\u001b[39;49m\u001b[39mTESTE\u001b[39;49m\u001b[39m\"\u001b[39;49m)\n\u001b[1;32m      2\u001b[0m os\u001b[39m.\u001b[39mrmdir(\u001b[39m\"\u001b[39m\u001b[39mAulas/02\u001b[39m\u001b[39m\"\u001b[39m) \u001b[39m# Só remove se estiver vazia\u001b[39;00m\n",
      "\u001b[0;31mFileExistsError\u001b[0m: [Errno 17] File exists: 'TESTE'"
     ]
    }
   ],
   "source": [
    "os.mkdir(\"TESTE\")\n",
    "os.rmdir(\"Aulas/02\") # Só remove se estiver vazia"
   ]
  }
 ],
 "metadata": {
  "kernelspec": {
   "display_name": "Python 3",
   "language": "python",
   "name": "python3"
  },
  "language_info": {
   "codemirror_mode": {
    "name": "ipython",
    "version": 3
   },
   "file_extension": ".py",
   "mimetype": "text/x-python",
   "name": "python",
   "nbconvert_exporter": "python",
   "pygments_lexer": "ipython3",
   "version": "3.10.6"
  },
  "orig_nbformat": 4,
  "vscode": {
   "interpreter": {
    "hash": "916dbcbb3f70747c44a77c7bcd40155683ae19c65e1c03b4aa3499c5328201f1"
   }
  }
 },
 "nbformat": 4,
 "nbformat_minor": 2
}
