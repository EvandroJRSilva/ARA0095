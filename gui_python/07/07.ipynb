{
 "cells": [
  {
   "attachments": {},
   "cell_type": "markdown",
   "metadata": {},
   "source": [
    "# Aula 07 - Tkinter\n",
    "\n",
    "Como vimos na aula anterior, o `Tkinter` é um módulo que já vem na instalação do Python. Por isso iremos vê-lo com mais detalhes (porém, nada impede que você procure conhecer as alternativas mais a fundo).\n",
    "\n",
    "Na Internet podemos encontrar muitos tutoriais:\n",
    "\n",
    "* [Real Python - Python GUI Programming With Tkinter](https://realpython.com/python-gui-tkinter/)\n",
    "* [Python TUTORIAL - tkinter](https://www.pythontutorial.net/tkinter/)\n",
    "* [Geeks for Geeks - Python Tkinter Tutorial](https://www.geeksforgeeks.org/python-tkinter-tutorial/)\n",
    "\n",
    "Vamos seguir com o `Python TUTORIAL`.\n",
    "\n",
    "## Tkinter\n",
    "\n",
    "A pronúncia em Inglês é *tea-kay-inter*, e em Português *t-k-inter*. O `Tkinter` é a interface Python para o `Tk`, o qual consiste em um kit de ferramentas de GUI para o `Tcl`/`Tk`.\n",
    "\n",
    "`Tcl` (cuja pronúncia em Inglês é *tickle*) é uma linguagem de *scripting* comumente utilizada em teste, prototipalçao e desenvolvimento de GUI. O `Tk` é um kit de ferramentas de widgets de código aberto e multiplataforma usado por diferentes linguagens de programação para desenvolver programas GUI.\n",
    "\n",
    "O Python implementa o Tkinter como um módulo. O Tkinter é *embrulho* (*wrapper*) de extensões da linguagem C que usam bibliotecas Tcl/Tk.\n",
    "\n",
    "## Primeiros exemplos"
   ]
  },
  {
   "cell_type": "code",
   "execution_count": 2,
   "metadata": {},
   "outputs": [],
   "source": [
    "import tkinter as tk\n",
    "\n",
    "root = tk.Tk()\n",
    "root.mainloop()"
   ]
  },
  {
   "attachments": {},
   "cell_type": "markdown",
   "metadata": {},
   "source": [
    "O exemplo acima funciona da seguinte forma.\n",
    "\n",
    "1. O módulo `tkinter` é importado com seu `alias` `tk`.\n",
    "2. A classe `tk.Tk` é instanciada, o que faz com que uma aplicação de janela seja criada.\n",
    "   1. Por convenção a janela principal do Tkinter é chamada de `root`.\n",
    "3. O método `mainloop` é chamado. \n",
    "   1. Este método mantém a janela visível enquanto não o usuário não a fecha. Se não for chamado, a janela aparece na tela e então desaparece instantaneamente.\n",
    "   2. Normalmente a chamada ao `mainloop` é a última sentença em um programa Tkinter.\n",
    "\n",
    "Agora vamos adicionar um componente à janela. No Tkinter os componentes são chamados de `widgets`. No exemplo a seguir vamos acrescentar um `label`."
   ]
  },
  {
   "cell_type": "code",
   "execution_count": 3,
   "metadata": {},
   "outputs": [],
   "source": [
    "import tkinter as tk\n",
    "\n",
    "root = tk.Tk()\n",
    "\n",
    "mensagem = tk.Label(root, text=\"Olá Mundo!\")\n",
    "mensagem.pack()\n",
    "\n",
    "root.mainloop()"
   ]
  },
  {
   "attachments": {},
   "cell_type": "markdown",
   "metadata": {},
   "source": [
    "Para adicionar um `widget` a um `container`, basta utilizar a seguinte sintaxe:\n",
    "\n",
    "```python\n",
    "widget = WidgetName(container, **opções)\n",
    "```\n",
    "\n",
    "O `container` é a janela (`window`) ou `frame` que vai conter o `widget`. As `opções` são parâmetros `atributo-valor` que especificam as configurações de um `widget`.\n",
    "\n",
    "Sobre o `pack`, veremos mais detalhes posteriormente. Por enquanto basta sabermos que se ele não tivesse sido chamado, o `widget` teria sido criado mas não ficaria visível.\n",
    "\n",
    "## Tkinter Window\n",
    "\n",
    "No primeiro exemplo que vimos, a partir da instanciação do `tk.Tk`, criamos um componente `window`, o qual é atrelado à variável `root`. O título dessa janela, por padrão é `tk`. Além disso a janela possui botões de sistema: minimizar, maximizar e fechar. Vamos brincar um pouco.\n",
    "\n",
    "### Modificando o título da janela\n",
    "\n",
    "Para modificar o título, podemos usar o método `title` da seguinte forma:\n",
    "\n",
    "```python\n",
    "window.title(novo título)\n",
    "```"
   ]
  },
  {
   "cell_type": "code",
   "execution_count": 6,
   "metadata": {},
   "outputs": [],
   "source": [
    "import tkinter as tk\n",
    "\n",
    "root = tk.Tk()\n",
    "root.title(\"Minha linda janela\")\n",
    "\n",
    "root.mainloop()"
   ]
  },
  {
   "attachments": {},
   "cell_type": "markdown",
   "metadata": {},
   "source": [
    "É possível pegar o título e armazeá-lo em alguma variável, caso você queira:"
   ]
  },
  {
   "cell_type": "code",
   "execution_count": null,
   "metadata": {},
   "outputs": [],
   "source": [
    "titulo = root.title()"
   ]
  },
  {
   "attachments": {},
   "cell_type": "markdown",
   "metadata": {},
   "source": [
    "### Modificando o tamanho e localização\n",
    "\n",
    "No Tkinter a posição e tamanho de uma janela na tela é determinada pelo método `geometry`, o qual recebe por padrâmetro o seguinte valor:\n",
    "\n",
    "```\n",
    "largura x altura ± x ± y\n",
    "```\n",
    "\n",
    "![tkinter window geometry](Tkinter-Window-Geometry.png)\n",
    "\n",
    "Tanto a largura quanto a altura devem ser medidos em pixels. O valor de `x` vai influenciar na distância horizontal e o valor de `y` vai influenciar na distância vertical."
   ]
  },
  {
   "cell_type": "code",
   "execution_count": 12,
   "metadata": {},
   "outputs": [],
   "source": [
    "import tkinter as tk\n",
    "\n",
    "root = tk.Tk()\n",
    "root.title(\"Minha janela modificada\")\n",
    "root.geometry('600x400+500+300')\n",
    "\n",
    "root.mainloop()"
   ]
  },
  {
   "attachments": {},
   "cell_type": "markdown",
   "metadata": {},
   "source": [
    "Um código que deixa a janela no centro da tela:"
   ]
  },
  {
   "cell_type": "code",
   "execution_count": 14,
   "metadata": {},
   "outputs": [],
   "source": [
    "import tkinter as tk\n",
    "\n",
    "root = tk.Tk()\n",
    "root.title(\"Janela no centro\")\n",
    "\n",
    "janela_largura = 300\n",
    "janela_altura = 200\n",
    "\n",
    "# Pegando a dimensão da tela\n",
    "tela_largura = root.winfo_screenwidth()\n",
    "tela_altura = root.winfo_screenheight()\n",
    "\n",
    "# Calculando o ponto central\n",
    "centro_x = int(tela_largura/2 - janela_largura/2)\n",
    "centro_y = int(tela_altura/2 - tela_altura/2)\n",
    "\n",
    "root.geometry(f'{janela_largura}x{janela_altura}+{centro_x}+{centro_y}')\n",
    "\n",
    "root.mainloop()"
   ]
  },
  {
   "attachments": {},
   "cell_type": "markdown",
   "metadata": {},
   "source": [
    "### Comportamento do redimensionamento\n",
    "\n",
    "Por padrão, a janela pode ser redimensionada. Porém, você pode configurar essa propriedade."
   ]
  },
  {
   "cell_type": "code",
   "execution_count": 16,
   "metadata": {},
   "outputs": [],
   "source": [
    "import tkinter as tk\n",
    "\n",
    "root = tk.Tk()\n",
    "root.title(\"Janela não redimensionável\")\n",
    "root.geometry('600x400+500+200')\n",
    "\n",
    "root.resizable(False, False)\n",
    "\n",
    "root.mainloop()"
   ]
  },
  {
   "attachments": {},
   "cell_type": "markdown",
   "metadata": {},
   "source": [
    "### Transparência\n",
    "\n",
    "O Tkinter permite especificar a transparência de uma janela na configuração do seu canal alfa, com valores de 0.0 (totalmente transparente) a 1.0 (totalmente opaco)."
   ]
  },
  {
   "cell_type": "code",
   "execution_count": 24,
   "metadata": {},
   "outputs": [],
   "source": [
    "import tkinter as tk\n",
    "\n",
    "root = tk.Tk()\n",
    "root.title(\"Janela transparente\")\n",
    "root.geometry('600x400+500+200')\n",
    "root.resizable(False, False)\n",
    "\n",
    "# É necessária a linha seguinte para funcionar no linux\n",
    "root.wait_visibility(root)\n",
    "# Funciona no Windows só com a linha seguinte\n",
    "root.wm_attributes('-alpha', 0.5)\n",
    "\n",
    "\n",
    "root.mainloop()"
   ]
  },
  {
   "attachments": {},
   "cell_type": "markdown",
   "metadata": {},
   "source": [
    "### Ordem de empilhamento de janela\n",
    "\n",
    "A ordem de empilhamento se refere à ordem em que as janelas estão dispostas na tela, de cima para baixo. A janela mais próxima do topo da tela fica sobreposta da janela mais para baixo.\n",
    "\n",
    "Para garantir que uma janela sempre esteja no topo da pilha precisamos usar o atributo `-topmost`:\n",
    "\n",
    "```python\n",
    "window.atributes('-topmost', 1)\n",
    "```\n",
    "\n",
    "Para mover uma janela para cima ou para baixo na pilha, basta utilizar os métodos `lift()` e `lower()`.\n",
    "\n",
    "```python\n",
    "window.lift()\n",
    "window.lift(outra_janela)\n",
    "\n",
    "window.lower()\n",
    "window.lower(outra_janela)\n",
    "```"
   ]
  },
  {
   "attachments": {},
   "cell_type": "markdown",
   "metadata": {},
   "source": [
    "## Ttk Widgets\n",
    "\n",
    "O Tkinter tem duas gerações de widgets:\n",
    "\n",
    "* Os velhos e clássicos widgets `tk`, introduzidos em 1991.\n",
    "* Os mais novos `ttk`, adicionados em 2007.\n",
    "\n",
    "`Ttk` significa `Tk themed`. Os widgets são os mesmos do `tk`.\n",
    "\n",
    "Vamos ver no código:"
   ]
  },
  {
   "cell_type": "code",
   "execution_count": 41,
   "metadata": {},
   "outputs": [],
   "source": [
    "import tkinter as tk\n",
    "from tkinter import ttk\n",
    "\n",
    "root = tk.Tk()\n",
    "\n",
    "tk.Label(root, text='Label clássico').pack()\n",
    "ttk.Label(root, text='Label mais novo').pack()\n",
    "\n",
    "root.mainloop()"
   ]
  },
  {
   "attachments": {},
   "cell_type": "markdown",
   "metadata": {},
   "source": [
    "As aparências deles dependem da plataforma onde o programa é executado.\n",
    "\n",
    "### Vantagens de se utilizar o ttk\n",
    "\n",
    "* Separação da aparência e comportamento do widget: o `ttk` tenta separar o código que implementa os comportamentos de sua aparência através de um sistema de estilização.\n",
    "* Os widgets do `ttk` possuem a estilização nativa da plataforma onde o programa é executado.\n",
    "* O `ttk` simplifica e generaliza o comportamento dependente do estado.\n",
    "\n",
    "### Os widgets do ttk\n",
    "\n",
    "Os seguintes widgets são substituídos pelo `ttk`:\n",
    "\n",
    "* [Button](https://www.pythontutorial.net/tkinter/tkinter-button/)\n",
    "* [Checkbutton](https://www.pythontutorial.net/tkinter/tkinter-checkbox/)\n",
    "* [Entry](https://www.pythontutorial.net/tkinter/tkinter-entry/)\n",
    "* [Frame](https://www.pythontutorial.net/tkinter/tkinter-frame/)\n",
    "* [Label](https://www.pythontutorial.net/tkinter/tkinter-label/)\n",
    "* [LabelFrame](https://www.pythontutorial.net/tkinter/tkinter-labelframe/)\n",
    "* [Menubutton](https://www.pythontutorial.net/tkinter/tkinter-menubutton/)\n",
    "* [PanedWindow](https://www.pythontutorial.net/tkinter/tkinter-panedwindow/)\n",
    "* [Radiobutton](https://www.pythontutorial.net/tkinter/tkinter-radio-button/)\n",
    "* [Scale](https://www.pythontutorial.net/tkinter/tkinter-slider/)\n",
    "* [Scrollbar](https://www.pythontutorial.net/tkinter/tkinter-scrollbar/)\n",
    "* [Spinbox](https://www.pythontutorial.net/tkinter/tkinter-spinbox/)\n",
    "\n",
    "Os seguintes widgets são específicos do `ttk`:\n",
    "\n",
    "* [Combobox](https://www.pythontutorial.net/tkinter/tkinter-combobox/)\n",
    "* [Notebook](https://www.pythontutorial.net/tkinter/tkinter-notebook/)\n",
    "* [Progressbar](https://www.pythontutorial.net/tkinter/tkinter-progressbar/)\n",
    "* [Separator](https://www.pythontutorial.net/tkinter/tkinter-separator/)\n",
    "* [Sizegrip](https://www.pythontutorial.net/tkinter/tkinter-sizegrip/)\n",
    "* [Treeview](https://www.pythontutorial.net/tkinter/tkinter-treeview/)"
   ]
  }
 ],
 "metadata": {
  "kernelspec": {
   "display_name": "Python 3",
   "language": "python",
   "name": "python3"
  },
  "language_info": {
   "codemirror_mode": {
    "name": "ipython",
    "version": 3
   },
   "file_extension": ".py",
   "mimetype": "text/x-python",
   "name": "python",
   "nbconvert_exporter": "python",
   "pygments_lexer": "ipython3",
   "version": "3.10.6"
  },
  "orig_nbformat": 4
 },
 "nbformat": 4,
 "nbformat_minor": 2
}
