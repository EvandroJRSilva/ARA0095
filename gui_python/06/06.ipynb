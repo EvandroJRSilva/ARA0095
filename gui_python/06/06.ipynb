{
 "cells": [
  {
   "attachments": {},
   "cell_type": "markdown",
   "metadata": {},
   "source": [
    "# GUI com Python\n",
    "\n",
    "Biblioteca básica: `tkinter`. Por padrão vem na instalação do Python (entretanto, pode acontecer de não ter sido instalado)."
   ]
  },
  {
   "cell_type": "code",
   "execution_count": 3,
   "metadata": {},
   "outputs": [],
   "source": [
    "import tkinter\n",
    "\n",
    "tkinter._test()"
   ]
  },
  {
   "attachments": {},
   "cell_type": "markdown",
   "metadata": {},
   "source": [
    "Além do `Tkinter` existem outras bibliotecas também. As mais conhecidas:\n",
    "\n",
    "## [Flexx](https://github.com/flexxui/flexx)\n",
    "\n",
    "É um kit de ferramentas para o desenvolvimento de interfaces gráficas com o usuário implementado em Python, que faz uso de tecnologia web para sua renderização. O Flexx pode ser usado para criar tanto aplicações de desktop, como para web e, até mesmo, exportar uma aplicação para um documento HTML independente.\n",
    "\n",
    "Para instalar digite no terminal:\n",
    "\n",
    "```\n",
    "pip install flexx\n",
    "```\n",
    "\n",
    "---"
   ]
  },
  {
   "attachments": {},
   "cell_type": "markdown",
   "metadata": {},
   "source": [
    "## [CEF Python](https://github.com/cztomczak/cefpython)\n",
    "\n",
    "É um projeto de código aberto voltado para o desenvolvimento de aplicações com integração ao Google Chrome. Existem muitos casos de uso para CEF. Por exemplo, ele pode ser usado para criar uma GUI baseada em HTML 5, pode usá-lo para testes automatizados, como também pode ser usado para web scraping, entre outras aplicações.\n",
    "\n",
    "Para instalar digite no terminal:\n",
    "\n",
    "```\n",
    "pip install cefpython3\n",
    "```\n",
    "\n",
    "Em sua última versão tem suporte para até o Python 3.9 no Windows e Python 3.7 no Linux.\n",
    "\n",
    "---"
   ]
  },
  {
   "attachments": {},
   "cell_type": "markdown",
   "metadata": {},
   "source": [
    "## [Kivy](https://kivy.org/)\n",
    "\n",
    "É um framework Python de código aberto para o desenvolvimento de aplicações com interfaces de usuário e multitoque. Ele é escrito em Python e Cython, baseado em OpenGL ES 2, suporta vários dispositivos de entrada e possui uma extensa biblioteca de componentes (widgets).\n",
    "\n",
    "Com o mesmo código, a aplicação funciona para Windows, macOS, Linux, Android e iOS. Todos os widgets Kivy são construídos com suporte multitoque.\n",
    "\n",
    "Para instalar digite no terminal:\n",
    "\n",
    "```\n",
    "pip install Kivy\n",
    "```\n",
    "\n",
    "---\n",
    "\n"
   ]
  },
  {
   "attachments": {},
   "cell_type": "markdown",
   "metadata": {},
   "source": [
    "## [Pyforms](https://pyforms.readthedocs.io/en/v3.0/)\n",
    "\n",
    "É um framework para desenvovler aplicações GUI, e promove design de software modular e reusabilidade de código com esforço mínimo. O `Pyforms` oferece:\n",
    "\n",
    "* Uma camada Python de formulário desktop, baseado em PyQt, OpenGL e outras bibliotecas.\n",
    "* Uma camada Python que permite aplicações serem executadas em interfaces gráficas no desktop, web e terminal sem requerer modificações de código.\n",
    "* Um grupo de regras e metodologias que ajudam ao desenvolvedor manter seu código curto, limpo, reutilizável e legível.\n",
    "\n",
    "Para instalar digite no terminal:\n",
    "\n",
    "```\n",
    "pip install pyforms\n",
    "```\n",
    "\n",
    "---"
   ]
  },
  {
   "attachments": {},
   "cell_type": "markdown",
   "metadata": {},
   "source": [
    "## Mais bibliotecas\n",
    "\n",
    "Continue vendo o material online, instale e brinque com as demais bibliotecas.\n",
    "\n",
    "Você pode pesquisar no [Google](https://www.google.com)/[Bing](https://www.bing.com/)/[Duck Duck Go](https://duckduckgo.com/) sobre outras bibliotecas bastante utilizadas ou recomendadas e brincar com elas."
   ]
  }
 ],
 "metadata": {
  "kernelspec": {
   "display_name": "Python 3",
   "language": "python",
   "name": "python3"
  },
  "language_info": {
   "codemirror_mode": {
    "name": "ipython",
    "version": 3
   },
   "file_extension": ".py",
   "mimetype": "text/x-python",
   "name": "python",
   "nbconvert_exporter": "python",
   "pygments_lexer": "ipython3",
   "version": "3.10.6"
  },
  "orig_nbformat": 4
 },
 "nbformat": 4,
 "nbformat_minor": 2
}
